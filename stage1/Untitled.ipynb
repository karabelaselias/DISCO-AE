{
 "cells": [
  {
   "cell_type": "code",
   "execution_count": 1,
   "id": "f88065c6-35c7-47c5-b3de-de9ff8b7ed87",
   "metadata": {},
   "outputs": [],
   "source": [
    "import torch\n",
    "import sys\n",
    "import os\n",
    "sys.path.append(\"/home/karabelas/workspace/DISCO-AE\")  # add the path to the DiffusionNet src\n",
    "import diffusion_net_vol  # noqa\n",
    "from diffusion_net_vol.geometry import *\n",
    "from diffusion_net_vol.utils import read_carp_bin_mesh, sparse_torch_to_np\n",
    "from utils import find_knn, zoomout_refine"
   ]
  },
  {
   "cell_type": "code",
   "execution_count": 2,
   "id": "bfa80f79-8d0a-4bfd-abe5-f25d7e9558b3",
   "metadata": {},
   "outputs": [],
   "source": [
    "from stage1 import hearts\n",
    "from hearts import shape_to_device"
   ]
  },
  {
   "cell_type": "code",
   "execution_count": null,
   "id": "74467ae6-2bb8-4bb8-a677-36ab30c4879e",
   "metadata": {},
   "outputs": [
    {
     "name": "stdout",
     "output_type": "stream",
     "text": [
      "loading 20 meshes\n",
      "processing  Case_01\n",
      "using dataset cache path: /home/karabelas/workspace/DISCO-AE/data/Data_hearts/cache/Case_01_cache.npz\n",
      "  --> dataset not in cache, repopulating\n",
      "loading mesh /home/karabelas/workspace/DISCO-AE/data/Data_hearts/Case_01\n",
      "Number of Points: 85754\n",
      "Number of elements: 397277\n",
      "Number of Fibers: 2\n",
      "[[ -0.73154879  -1.37987551   0.58370212  -1.88298886  -3.6579397\n",
      "   10.03090147   2.27727985  -1.79826246   3.06792462   5.40923852\n",
      "    3.09422912  -3.41223913  -4.56049948  -5.96900063   0.15445905\n",
      "   -1.22538017]\n",
      " [-29.51323066   9.32300772   1.34940356   2.41920183   1.38231837\n",
      "    0.60800938   2.20810243   4.59658123   5.53472348  -1.51304885\n",
      "   -2.79594312   6.41107216  -4.30303556  -0.50402805   2.21256644\n",
      "    2.58429965]\n",
      " [-19.07210437   4.03201655   0.75392173   0.71343746  -3.07149194\n",
      "   -8.82212388   0.32309525   0.30408973   6.43894668   1.79745946\n",
      "    6.65066297   5.01948554  11.40411444   0.74567835  -0.05436975\n",
      "   -7.16281824]]\n",
      "processing  Case_02\n",
      "using dataset cache path: /home/karabelas/workspace/DISCO-AE/data/Data_hearts/cache/Case_02_cache.npz\n",
      "  --> dataset not in cache, repopulating\n",
      "loading mesh /home/karabelas/workspace/DISCO-AE/data/Data_hearts/Case_02\n",
      "Number of Points: 93436\n",
      "Number of elements: 440841\n",
      "Number of Fibers: 2\n"
     ]
    }
   ],
   "source": [
    "train_dataset = hearts.HeartDataset(\"/home/karabelas/workspace/DISCO-AE/data/Data_hearts\", name=\"hearts\", k_eig=64,\n",
    "                                          n_fmap=50, use_cache=True)"
   ]
  },
  {
   "cell_type": "code",
   "execution_count": null,
   "id": "763810bf-c241-4d08-8db7-1fc7978aaec2",
   "metadata": {},
   "outputs": [],
   "source": [
    "train_loader = torch.utils.data.DataLoader(train_dataset, batch_size=None, shuffle=True)"
   ]
  },
  {
   "cell_type": "code",
   "execution_count": null,
   "id": "20610f3b-e3a5-41b9-8c34-be4e0d95f3b3",
   "metadata": {},
   "outputs": [],
   "source": [
    "from model import FMLoss, GeomFMapNet\n",
    "from utils import augment_batch"
   ]
  },
  {
   "cell_type": "code",
   "execution_count": null,
   "id": "6c194635-bc73-4e74-9a7d-f04c3cefd95a",
   "metadata": {},
   "outputs": [],
   "source": [
    "import yaml"
   ]
  },
  {
   "cell_type": "code",
   "execution_count": null,
   "id": "d9f5ffe3-80ff-4083-ab3e-ef06935a5020",
   "metadata": {},
   "outputs": [],
   "source": [
    "cfg = yaml.safe_load(open(\"hearts.yaml\", \"r\"))"
   ]
  },
  {
   "cell_type": "code",
   "execution_count": null,
   "id": "65bf3ccd-8c14-4adc-8e48-53c369af606e",
   "metadata": {},
   "outputs": [],
   "source": [
    "fm_net = GeomFMapNet(cfg)"
   ]
  },
  {
   "cell_type": "code",
   "execution_count": null,
   "id": "375931f3-51ae-4fc9-af8f-4967f3ffe46e",
   "metadata": {},
   "outputs": [],
   "source": [
    "lr = float(cfg[\"optimizer\"][\"lr\"])\n",
    "optimizer = torch.optim.AdamW(fm_net.parameters(), lr=lr, betas=(cfg[\"optimizer\"][\"b1\"], cfg[\"optimizer\"][\"b2\"]))"
   ]
  },
  {
   "cell_type": "code",
   "execution_count": null,
   "id": "40032343-872a-4bba-b5a6-8f9dcd0458a7",
   "metadata": {},
   "outputs": [],
   "source": [
    "criterion = FMLoss(w_bij=cfg[\"loss\"][\"w_bij\"], w_ortho=cfg[\"loss\"][\"w_ortho\"])"
   ]
  },
  {
   "cell_type": "code",
   "execution_count": null,
   "id": "4c77f162-0198-4e59-b8ac-2a6a53e4a24b",
   "metadata": {},
   "outputs": [],
   "source": [
    "device = torch.device(\"cpu\")\n",
    "print(\"start training\")\n",
    "iterations = 0\n",
    "for epoch in range(1, cfg[\"training\"][\"epochs\"] + 1):\n",
    "    if epoch % cfg[\"optimizer\"][\"decay_iter\"] == 0:\n",
    "        lr *= cfg[\"optimizer\"][\"decay_factor\"]\n",
    "        print(f\"Decaying learning rate, new one: {lr}\")\n",
    "        for param_group in optimizer.param_groups:\n",
    "            param_group['lr'] = lr\n",
    "\n",
    "    fm_net.train()\n",
    "    for i, data in enumerate(train_loader):\n",
    "        data = shape_to_device(data, device)\n",
    "\n",
    "        # data augmentation\n",
    "        data = augment_batch(data, rot_x=0, rot_y=0, rot_z=0, std=0.01, noise_clip=0.00, scale_min=1.0, scale_max=1.0)\n",
    "\n",
    "        # do iteration\n",
    "        C12, C21 = fm_net(data)\n",
    "        loss = criterion(C12, C21)\n",
    "\n",
    "        loss.backward()\n",
    "        optimizer.step()\n",
    "        optimizer.zero_grad()\n",
    "\n",
    "        # log\n",
    "        iterations += 1\n",
    "        if iterations % cfg[\"misc\"][\"log_interval\"] == 0:\n",
    "            print(f\"#epoch:{epoch}, #batch:{i + 1}, #iteration:{iterations}, loss:{loss}\")\n",
    "\n",
    "    # save model\n",
    "    #if (epoch + 1) % cfg[\"misc\"][\"checkpoint_interval\"] == 0:\n",
    "    #    torch.save(fm_net.state_dict(), model_save_path.format(epoch))"
   ]
  },
  {
   "cell_type": "code",
   "execution_count": null,
   "id": "23af3728-2b15-440e-af89-46d163c8463a",
   "metadata": {},
   "outputs": [],
   "source": [
    "train_loader[0].grad"
   ]
  },
  {
   "cell_type": "code",
   "execution_count": null,
   "id": "697d2b20-a2cb-4569-97f7-73a996a6f52f",
   "metadata": {},
   "outputs": [],
   "source": [
    "train_dataset.grad_list[0]"
   ]
  },
  {
   "cell_type": "code",
   "execution_count": null,
   "id": "07f5821a-0139-442f-8c27-8d3c4e186619",
   "metadata": {},
   "outputs": [],
   "source": [
    "torch.einsum('bi,i->bi', train_dataset.evecs_list[0].t(), train_dataset.massvec_list[0])"
   ]
  },
  {
   "cell_type": "code",
   "execution_count": null,
   "id": "75923e9d-3680-4c91-9579-e6c202bf2ea7",
   "metadata": {},
   "outputs": [],
   "source": [
    "torch.save(fm_net.state_dict(), \"/home/karabelas/workspace/DISCO-AE/data/Data_hearts/cache/fm.pth\")"
   ]
  },
  {
   "cell_type": "code",
   "execution_count": null,
   "id": "63a03362-7812-4284-bc33-47210939e042",
   "metadata": {},
   "outputs": [],
   "source": [
    "saved_maps = \"/home/karabelas/workspace/DISCO-AE/data/Data_hearts/cache/heart_maps.pt\""
   ]
  },
  {
   "cell_type": "code",
   "execution_count": null,
   "id": "151c3c53-1fc9-48a7-a413-dcdbffd6db49",
   "metadata": {},
   "outputs": [],
   "source": [
    "# Eval loop\n",
    "n_fmap=30\n",
    "print(\"start evaluation...\")\n",
    "to_save = {}\n",
    "\n",
    "fm_net.eval()\n",
    "for i, data in enumerate(train_loader):\n",
    "        data = shape_to_device(data, device)\n",
    "        evecs1, evecs2 = data[\"shape1\"][\"evecs\"], data[\"shape2\"][\"evecs\"]\n",
    "\n",
    "        # do iteration\n",
    "        C12, C21 = fm_net(data)\n",
    "        C12, C21 = C12.squeeze(0), C21.squeeze(0)\n",
    "\n",
    "        # maps from 2 to 1\n",
    "        evec1_on_2 = evecs1[:, :n_fmap] @ C12.transpose(0, 1)\n",
    "        _, pred_labels2to1 = find_knn(evecs2[:, :n_fmap], evec1_on_2, k=1, method='cpu_kd')\n",
    "        map_21 = pred_labels2to1.flatten()\n",
    "\n",
    "        # maps from 1 to 2\n",
    "        evec2_on_1 = evecs2[:, :n_fmap] @ C21.transpose(0, 1)\n",
    "        _, pred_labels1to2 = find_knn(evecs1[:, :n_fmap], evec2_on_1, k=1, method='cpu_kd')\n",
    "        map_12 = pred_labels1to2.flatten()\n",
    "\n",
    "        # zoomout refinement\n",
    "        \n",
    "        C12, C21, evecs1, evecs2 = C12.detach().cpu().numpy(), C21.detach().cpu().numpy(), evecs1.cpu().numpy(), evecs2.cpu().numpy()\n",
    "        _, map_21_ref = zoomout_refine(evecs1, evecs2, C12, nit=10,\n",
    "                                       step=(evecs1.shape[-1] - n_fmap) // 10, return_p2p=True)\n",
    "        _, map_12_ref = zoomout_refine(evecs2, evecs1, C21, nit=10,\n",
    "                                       step=(evecs2.shape[-1] - n_fmap) // 10, return_p2p=True)\n",
    "    \n",
    "        to_save[f'{data[\"shape1\"][\"name\"]}_{data[\"shape2\"][\"name\"]}'] = [map_12, map_12_ref, map_21, map_21_ref]\n",
    "\n",
    "torch.save(to_save, saved_maps)"
   ]
  },
  {
   "cell_type": "code",
   "execution_count": null,
   "id": "39cf9584-4aab-44bc-8454-823d6ffdf3f0",
   "metadata": {},
   "outputs": [],
   "source": [
    "len(to_save)"
   ]
  },
  {
   "cell_type": "code",
   "execution_count": null,
   "id": "711cf118-af78-4da8-a10d-b126dd54592b",
   "metadata": {},
   "outputs": [],
   "source": [
    "szs = np.array([train_dataset.verts_list[j].shape[0] for j in range(len(train_dataset.verts_list))])"
   ]
  },
  {
   "cell_type": "code",
   "execution_count": null,
   "id": "fe164a2d-77e1-4a79-91b5-9da9a021a6b4",
   "metadata": {},
   "outputs": [],
   "source": [
    "test = sparse_torch_to_np(train_dataset.gradX_list[1])"
   ]
  },
  {
   "cell_type": "code",
   "execution_count": null,
   "id": "b53ccc03-2b5b-42d2-8a4a-05a3f5e7f383",
   "metadata": {},
   "outputs": [],
   "source": [
    "test.eliminate_zeros()"
   ]
  },
  {
   "cell_type": "code",
   "execution_count": null,
   "id": "22dd0cd9-79ee-4750-b6b4-cab7773c47d2",
   "metadata": {},
   "outputs": [],
   "source": [
    "test"
   ]
  },
  {
   "cell_type": "code",
   "execution_count": null,
   "id": "9837f4be-cb65-46a7-865d-cf15f9383794",
   "metadata": {},
   "outputs": [],
   "source": [
    "szs.argmax()"
   ]
  },
  {
   "cell_type": "code",
   "execution_count": null,
   "id": "3b7efa5d-2802-4a18-911f-cee257927627",
   "metadata": {},
   "outputs": [],
   "source": [
    "bname = \"/home/karabelas/workspace/DISCO-AE/data/Data_hearts/Case_01\"\n",
    "xyz, con, _, _ = read_carp_bin_mesh(bname)\n",
    "con = con[:, [1,0,2,3]]\n",
    "xyz = diffusion_net_vol.geometry.normalize_positions(xyz)\n",
    "\n",
    "# normalize area\n",
    "xyz = diffusion_net_vol.geometry.normalize_volume_scale(xyz, con)"
   ]
  },
  {
   "cell_type": "code",
   "execution_count": null,
   "id": "d79d51e0-c6ab-4956-b419-06edd94d95ab",
   "metadata": {},
   "outputs": [],
   "source": [
    "L = (-1.0) * cotmatrix(xyz, con)\n",
    "L_coo = L.tocoo()\n",
    "inds_row = L_coo.row\n",
    "inds_col = L_coo.col"
   ]
  },
  {
   "cell_type": "code",
   "execution_count": null,
   "id": "8023c157-ee38-4970-9c31-6c3e8903391a",
   "metadata": {},
   "outputs": [],
   "source": [
    "# For meshes, we use the same edges as were used to build the Laplacian\n",
    "edges = np.stack((inds_row, inds_col), axis=0)\n",
    "edge_vecs = xyz[edges[1, :], :] - xyz[edges[0, :], :]\n"
   ]
  },
  {
   "cell_type": "code",
   "execution_count": null,
   "id": "25d6b213-dd53-4a42-a906-c0cbad10ab08",
   "metadata": {},
   "outputs": [],
   "source": [
    "gradMat = build_grad_parallel_single(xyz, edges, edge_vecs, format='csr')"
   ]
  },
  {
   "cell_type": "code",
   "execution_count": null,
   "id": "b1a3803a-dc9a-4249-ad45-0fad55beffcd",
   "metadata": {},
   "outputs": [],
   "source": [
    "gradMat"
   ]
  },
  {
   "cell_type": "code",
   "execution_count": null,
   "id": "8bd21cec-bdff-4ad3-a114-16b2fd860f7a",
   "metadata": {},
   "outputs": [],
   "source": [
    "gradX = sparse_torch_to_np(train_dataset.gradX_list[0])\n",
    "gradY = sparse_torch_to_np(train_dataset.gradY_list[0])\n",
    "gradZ = sparse_torch_to_np(train_dataset.gradZ_list[0])"
   ]
  },
  {
   "cell_type": "code",
   "execution_count": null,
   "id": "49a996af-06c2-4239-bf76-501b3e5d67be",
   "metadata": {},
   "outputs": [],
   "source": [
    "rng = np.random.default_rng(seed=42)\n",
    "x = rng.standard_normal((xyz.shape[0],3))\n"
   ]
  },
  {
   "cell_type": "code",
   "execution_count": null,
   "id": "58cbd570-54dc-4fb0-9a8d-c9436d6d01f4",
   "metadata": {},
   "outputs": [],
   "source": [
    "t1 = gradX @ x[:,0]\n",
    "t2 = gradY @ x[:,0]\n",
    "t3 = gradZ @ x[:,0]"
   ]
  },
  {
   "cell_type": "code",
   "execution_count": null,
   "id": "d71a60a7-4a29-4af9-a059-3411e446d2ab",
   "metadata": {},
   "outputs": [],
   "source": [
    "tt = gradMat @ x[:, 0]"
   ]
  },
  {
   "cell_type": "code",
   "execution_count": null,
   "id": "dece2e68-fd43-4e0b-8eaa-c1d2ae4267e8",
   "metadata": {},
   "outputs": [],
   "source": [
    "grad_v_reshaped = tt.reshape(3, -1).T"
   ]
  },
  {
   "cell_type": "code",
   "execution_count": null,
   "id": "d3df40f8-d030-4cb7-945d-2a995d4329b1",
   "metadata": {},
   "outputs": [],
   "source": [
    "test=np.stack((t1,t2,t3), axis=1)"
   ]
  },
  {
   "cell_type": "code",
   "execution_count": null,
   "id": "1cfaebbe-0035-486b-acc7-964824d33447",
   "metadata": {},
   "outputs": [],
   "source": [
    "grad_v_reshaped"
   ]
  },
  {
   "cell_type": "code",
   "execution_count": null,
   "id": "769fa842-a84a-4cb5-9cf9-1533523997e9",
   "metadata": {},
   "outputs": [],
   "source": [
    "np.linalg.norm(test[:, 2] - grad_v_reshaped[:, 2]) / np.linalg.norm(test[:, 2])"
   ]
  },
  {
   "cell_type": "code",
   "execution_count": null,
   "id": "43243a12-df18-429d-a61b-9be64a92c375",
   "metadata": {},
   "outputs": [],
   "source": [
    "gradMat.indices.shape"
   ]
  },
  {
   "cell_type": "code",
   "execution_count": null,
   "id": "ae143e71-8521-4c99-83e5-ddce44bf9d17",
   "metadata": {},
   "outputs": [],
   "source": [
    "gradMat.indptr.shape"
   ]
  },
  {
   "cell_type": "code",
   "execution_count": null,
   "id": "84ce152f-dbbd-4f94-a64d-97df171dcd86",
   "metadata": {},
   "outputs": [],
   "source": [
    "bsr = torch.sparse_csr_tensor(gradMat.indptr, gradMat.indices, gradMat.data, dtype=torch.float32)"
   ]
  },
  {
   "cell_type": "code",
   "execution_count": null,
   "id": "e84ff052-a138-43c4-8bea-bf08d5c64308",
   "metadata": {},
   "outputs": [],
   "source": [
    "bsr"
   ]
  },
  {
   "cell_type": "code",
   "execution_count": null,
   "id": "19417f16-b719-469a-bf46-e0b6c98f75ae",
   "metadata": {},
   "outputs": [],
   "source": [
    "xtorch = torch.tensor(x, dtype=torch.float)"
   ]
  },
  {
   "cell_type": "code",
   "execution_count": null,
   "id": "21dbb048-8b2d-4f30-8946-92a4858e6e6d",
   "metadata": {},
   "outputs": [],
   "source": [
    "(bsr @ xtorch[:, 0]).reshape(3, -1).T"
   ]
  },
  {
   "cell_type": "code",
   "execution_count": null,
   "id": "01c804d9-16c4-436e-b87d-0e3862523087",
   "metadata": {},
   "outputs": [],
   "source": [
    "gradMat.data.dtype"
   ]
  },
  {
   "cell_type": "code",
   "execution_count": null,
   "id": "5d4eb986-6ad4-4e09-bf25-542ef7a10a44",
   "metadata": {},
   "outputs": [],
   "source": [
    "bsr.crow_indices().shape"
   ]
  },
  {
   "cell_type": "code",
   "execution_count": null,
   "id": "a67940f7-7b04-45ce-8f15-762103134ebf",
   "metadata": {},
   "outputs": [],
   "source": [
    "bsr.col_indices().shape"
   ]
  },
  {
   "cell_type": "code",
   "execution_count": null,
   "id": "269f0757-751b-4f84-a2b4-7720473460bb",
   "metadata": {},
   "outputs": [],
   "source": [
    "bsr.values()"
   ]
  },
  {
   "cell_type": "code",
   "execution_count": null,
   "id": "9955ecdb-f5d2-4a49-a277-cb4ecbbdf93c",
   "metadata": {},
   "outputs": [],
   "source": [
    "nf = 128\n",
    "nnodes = 1000\n",
    "mat1 = torch.randn(nnodes, nf)\n",
    "mat2 = torch.randn(3*nnodes, nnodes)\n",
    "res = torch.mm(mat2, mat1)"
   ]
  },
  {
   "cell_type": "code",
   "execution_count": null,
   "id": "9ffc9093-5b18-42f2-b662-a4e769480fed",
   "metadata": {},
   "outputs": [],
   "source": [
    "res.reshape(-1,128,3).shape"
   ]
  },
  {
   "cell_type": "code",
   "execution_count": null,
   "id": "351a204e-0afd-4e20-9824-b232b78992c7",
   "metadata": {},
   "outputs": [],
   "source": [
    "bs = 8\n",
    "xgrads=[]\n",
    "for b in range(bs):\n",
    "    xgrads.append(torch.stack((res, res, res), dim=-1))"
   ]
  },
  {
   "cell_type": "code",
   "execution_count": null,
   "id": "658456f0-1e19-419e-9d81-fdf862ab3d34",
   "metadata": {},
   "outputs": [],
   "source": [
    "x_grad = torch.stack(xgrads, dim=0)"
   ]
  },
  {
   "cell_type": "code",
   "execution_count": null,
   "id": "d0d81e41-7b44-44dd-a820-af34dc4e58a1",
   "metadata": {},
   "outputs": [],
   "source": [
    "x_grad.shape"
   ]
  },
  {
   "cell_type": "code",
   "execution_count": null,
   "id": "83c2f6e4-002f-4f4e-b766-570de864fa15",
   "metadata": {},
   "outputs": [],
   "source": []
  }
 ],
 "metadata": {
  "kernelspec": {
   "display_name": "Python [conda env:discoae]",
   "language": "python",
   "name": "conda-env-discoae-py"
  },
  "language_info": {
   "codemirror_mode": {
    "name": "ipython",
    "version": 3
   },
   "file_extension": ".py",
   "mimetype": "text/x-python",
   "name": "python",
   "nbconvert_exporter": "python",
   "pygments_lexer": "ipython3",
   "version": "3.10.15"
  }
 },
 "nbformat": 4,
 "nbformat_minor": 5
}
