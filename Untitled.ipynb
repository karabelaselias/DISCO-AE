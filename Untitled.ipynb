{
 "cells": [
  {
   "cell_type": "code",
   "execution_count": 1,
   "id": "076184c5-f119-4768-868a-49533fb89ac0",
   "metadata": {},
   "outputs": [],
   "source": [
    "import torch\n",
    "import sys\n",
    "import os\n",
    "sys.path.append(\"/home/karabele/software/DISCO-AE\")  # add the path to the DiffusionNet src\n",
    "import diffusion_net_vol  # noqa\n",
    "from diffusion_net_vol.geometry import *\n",
    "from diffusion_net_vol.utils import read_carp_bin_mesh"
   ]
  },
  {
   "cell_type": "code",
   "execution_count": 2,
   "id": "04bab3cb-1b47-4edd-99f7-beed53de91f8",
   "metadata": {},
   "outputs": [],
   "source": [
    "from stage1 import hearts"
   ]
  },
  {
   "cell_type": "code",
   "execution_count": 3,
   "id": "48ff335c-e446-484a-a40b-cde380bd0cc6",
   "metadata": {
    "scrolled": true
   },
   "outputs": [
    {
     "name": "stdout",
     "output_type": "stream",
     "text": [
      "loading 20 meshes\n",
      "loading mesh /home/karabele/software/DISCO-AE/data/Data_hearts/Case_01\n",
      "  --> loading dataset from cache\n",
      "loading mesh /home/karabele/software/DISCO-AE/data/Data_hearts/Case_02\n",
      "  --> loading dataset from cache\n"
     ]
    },
    {
     "name": "stderr",
     "output_type": "stream",
     "text": [
      "/home/karabele/software/DISCO-AE/stage1/hearts.py:86: FutureWarning: You are using `torch.load` with `weights_only=False` (the current default value), which uses the default pickle module implicitly. It is possible to construct malicious pickle data which will execute arbitrary code during unpickling (See https://github.com/pytorch/pytorch/blob/main/SECURITY.md#untrusted-models for more details). In a future release, the default value for `weights_only` will be flipped to `True`. This limits the functions that could be executed during unpickling. Arbitrary objects will no longer be allowed to be loaded via this mode unless they are explicitly allowlisted by the user via `torch.serialization.add_safe_globals`. We recommend you start setting `weights_only=True` for any use case where you don't have full control of the loaded file. Please open an issue on GitHub for any issues related to this experimental feature.\n",
      "  ) = torch.load(cFile)\n"
     ]
    },
    {
     "name": "stdout",
     "output_type": "stream",
     "text": [
      "loading mesh /home/karabele/software/DISCO-AE/data/Data_hearts/Case_03\n",
      "  --> loading dataset from cache\n",
      "loading mesh /home/karabele/software/DISCO-AE/data/Data_hearts/Case_04\n",
      "  --> loading dataset from cache\n",
      "loading mesh /home/karabele/software/DISCO-AE/data/Data_hearts/Case_05\n",
      "  --> loading dataset from cache\n",
      "loading mesh /home/karabele/software/DISCO-AE/data/Data_hearts/Case_06\n",
      "  --> loading dataset from cache\n",
      "loading mesh /home/karabele/software/DISCO-AE/data/Data_hearts/Case_07\n",
      "  --> loading dataset from cache\n",
      "loading mesh /home/karabele/software/DISCO-AE/data/Data_hearts/Case_08\n",
      "  --> loading dataset from cache\n",
      "loading mesh /home/karabele/software/DISCO-AE/data/Data_hearts/Case_09\n",
      "  --> loading dataset from cache\n",
      "loading mesh /home/karabele/software/DISCO-AE/data/Data_hearts/Case_10\n",
      "  --> loading dataset from cache\n",
      "loading mesh /home/karabele/software/DISCO-AE/data/Data_hearts/Case_11\n",
      "  --> loading dataset from cache\n",
      "loading mesh /home/karabele/software/DISCO-AE/data/Data_hearts/Case_12\n",
      "  --> loading dataset from cache\n",
      "loading mesh /home/karabele/software/DISCO-AE/data/Data_hearts/Case_13\n",
      "  --> loading dataset from cache\n",
      "loading mesh /home/karabele/software/DISCO-AE/data/Data_hearts/Case_14\n",
      "  --> loading dataset from cache\n",
      "loading mesh /home/karabele/software/DISCO-AE/data/Data_hearts/Case_15\n",
      "  --> loading dataset from cache\n",
      "loading mesh /home/karabele/software/DISCO-AE/data/Data_hearts/Case_16\n",
      "  --> loading dataset from cache\n",
      "loading mesh /home/karabele/software/DISCO-AE/data/Data_hearts/Case_17\n",
      "  --> loading dataset from cache\n",
      "loading mesh /home/karabele/software/DISCO-AE/data/Data_hearts/Case_18\n",
      "  --> loading dataset from cache\n",
      "loading mesh /home/karabele/software/DISCO-AE/data/Data_hearts/Case_19\n",
      "  --> loading dataset from cache\n",
      "loading mesh /home/karabele/software/DISCO-AE/data/Data_hearts/Case_20\n",
      "  --> loading dataset from cache\n"
     ]
    }
   ],
   "source": [
    "train_dataset = hearts.HeartDataset(\"/home/karabele/software/DISCO-AE/data/Data_hearts\", name=\"hearts\", k_eig=32,\n",
    "                                    n_fmap=30, use_cache=True)"
   ]
  },
  {
   "cell_type": "code",
   "execution_count": 9,
   "id": "ae4aeca4-13b9-4a56-b928-ce8d6544e986",
   "metadata": {
    "scrolled": true
   },
   "outputs": [
    {
     "data": {
      "text/plain": [
       "['Case_01',\n",
       " 'Case_02',\n",
       " 'Case_03',\n",
       " 'Case_04',\n",
       " 'Case_05',\n",
       " 'Case_06',\n",
       " 'Case_07',\n",
       " 'Case_08',\n",
       " 'Case_09',\n",
       " 'Case_10',\n",
       " 'Case_11',\n",
       " 'Case_12',\n",
       " 'Case_13',\n",
       " 'Case_14',\n",
       " 'Case_15',\n",
       " 'Case_16',\n",
       " 'Case_17',\n",
       " 'Case_18',\n",
       " 'Case_19',\n",
       " 'Case_20']"
      ]
     },
     "execution_count": 9,
     "metadata": {},
     "output_type": "execute_result"
    }
   ],
   "source": [
    "train_dataset.names_list"
   ]
  },
  {
   "cell_type": "code",
   "execution_count": 10,
   "id": "4bdd9ddb-5e7c-4750-8a26-af5e604f6b8a",
   "metadata": {},
   "outputs": [
    {
     "name": "stdout",
     "output_type": "stream",
     "text": [
      "Number of Points: 85754\n",
      "Number of elements: 397277\n",
      "9534648\n",
      "Number of Fibers: 2\n"
     ]
    }
   ],
   "source": [
    "verts, tets, _, _ = diffusion_net_vol.utils.read_carp_bin_mesh(\"/home/karabele/software/DISCO-AE/data/Data_hearts/Case_01\")"
   ]
  },
  {
   "cell_type": "code",
   "execution_count": 21,
   "id": "cabd9bcf-e506-4c4a-b31d-34b2026cf95f",
   "metadata": {},
   "outputs": [],
   "source": [
    "verts_new = verts-np.mean(verts, axis=-2, keepdims=True)"
   ]
  },
  {
   "cell_type": "code",
   "execution_count": 34,
   "id": "f51fe523-20a2-43a0-b0fb-f7811215f66c",
   "metadata": {},
   "outputs": [],
   "source": [
    "bbox_min = np.min(verts_new, axis=-2)\n",
    "bbox_max = np.max(verts_new, axis=-2)"
   ]
  },
  {
   "cell_type": "code",
   "execution_count": 36,
   "id": "ca8db101-b3ac-4bea-9894-0ba38765f81d",
   "metadata": {},
   "outputs": [],
   "source": [
    "center = (bbox_max + bbox_min) / 2.0"
   ]
  },
  {
   "cell_type": "code",
   "execution_count": 40,
   "id": "fd770bad-d436-4e56-98a4-286218435fd6",
   "metadata": {},
   "outputs": [
    {
     "data": {
      "text/plain": [
       "array([[-6.08036172, -3.01059546,  7.05391946]])"
      ]
     },
     "execution_count": 40,
     "metadata": {},
     "output_type": "execute_result"
    }
   ],
   "source": [
    "np.expand_dims(center, -2)"
   ]
  },
  {
   "cell_type": "code",
   "execution_count": null,
   "id": "1af3e47a-2fab-4964-9e92-6bac190e5259",
   "metadata": {},
   "outputs": [],
   "source": []
  },
  {
   "cell_type": "code",
   "execution_count": 45,
   "id": "226d6bd0-cbe7-4c94-af5f-9fbe419001ce",
   "metadata": {},
   "outputs": [],
   "source": [
    "muh = verts_new / np.linalg.norm(verts_new, axis=-2, keepdims=True)"
   ]
  },
  {
   "cell_type": "code",
   "execution_count": 56,
   "id": "4ded1b1c-9f3d-4882-a9ea-af84ebbce51c",
   "metadata": {},
   "outputs": [],
   "source": [
    "scale=np.expand_dims(np.max(np.linalg.norm(verts_new, axis=len(verts_new.shape)-1), axis=-1, keepdims=True), axis=-1)"
   ]
  },
  {
   "cell_type": "code",
   "execution_count": 60,
   "id": "f3eb6f50-c910-4e2a-8b75-c84b5c71dd76",
   "metadata": {},
   "outputs": [
    {
     "data": {
      "text/plain": [
       "0.005468507336213322"
      ]
     },
     "execution_count": 60,
     "metadata": {},
     "output_type": "execute_result"
    }
   ],
   "source": [
    "np.min(np.linalg.norm(verts_new/scale, axis=1), axis=-1)"
   ]
  },
  {
   "cell_type": "code",
   "execution_count": 61,
   "id": "8a67dc7c-80c8-4ccc-bfc5-45d3f5203a60",
   "metadata": {},
   "outputs": [],
   "source": [
    "tet_coords=verts[tets]"
   ]
  },
  {
   "cell_type": "code",
   "execution_count": 63,
   "id": "5dfd7311-d590-41f2-9cac-096b944b5104",
   "metadata": {},
   "outputs": [],
   "source": [
    "vec_A = tet_coords[:, 1, :] - tet_coords[:, 0, :]\n",
    "vec_B = tet_coords[:, 2, :] - tet_coords[:, 0, :]\n",
    "vec_C = tet_coords[:, 3, :] - tet_coords[:, 0, :]"
   ]
  },
  {
   "cell_type": "code",
   "execution_count": 64,
   "id": "90f4d737-edcb-4a27-9b90-5074fbdf6db2",
   "metadata": {},
   "outputs": [
    {
     "data": {
      "text/plain": [
       "(397277, 4, 3)"
      ]
     },
     "execution_count": 64,
     "metadata": {},
     "output_type": "execute_result"
    }
   ],
   "source": [
    "tet_coords.shape"
   ]
  },
  {
   "cell_type": "code",
   "execution_count": 65,
   "id": "58d110ca-a296-4283-827b-a0b3eb9d44fb",
   "metadata": {},
   "outputs": [
    {
     "ename": "ValueError",
     "evalue": "shapes (397277,3) and (397277,3) not aligned: 3 (dim 1) != 397277 (dim 0)",
     "output_type": "error",
     "traceback": [
      "\u001b[0;31m---------------------------------------------------------------------------\u001b[0m",
      "\u001b[0;31mValueError\u001b[0m                                Traceback (most recent call last)",
      "Cell \u001b[0;32mIn[65], line 1\u001b[0m\n\u001b[0;32m----> 1\u001b[0m tet_vols \u001b[38;5;241m=\u001b[39m np\u001b[38;5;241m.\u001b[39mabs(\u001b[43mnp\u001b[49m\u001b[38;5;241;43m.\u001b[39;49m\u001b[43mdot\u001b[49m\u001b[43m(\u001b[49m\u001b[43mnp\u001b[49m\u001b[38;5;241;43m.\u001b[39;49m\u001b[43mcross\u001b[49m\u001b[43m(\u001b[49m\u001b[43mvec_A\u001b[49m\u001b[43m,\u001b[49m\u001b[43m \u001b[49m\u001b[43mvec_B\u001b[49m\u001b[43m)\u001b[49m\u001b[43m,\u001b[49m\u001b[43m \u001b[49m\u001b[43mvec_C\u001b[49m\u001b[43m)\u001b[49m) \u001b[38;5;241m/\u001b[39m \u001b[38;5;241m6.\u001b[39m\n",
      "\u001b[0;31mValueError\u001b[0m: shapes (397277,3) and (397277,3) not aligned: 3 (dim 1) != 397277 (dim 0)"
     ]
    }
   ],
   "source": [
    "tet_vols = np.abs(np.dot(np.cross(vec_A, vec_B), vec_C)) / 6."
   ]
  },
  {
   "cell_type": "code",
   "execution_count": 79,
   "id": "36890efe-0713-40c5-89ba-c86efa1eb873",
   "metadata": {},
   "outputs": [],
   "source": [
    "tet_vols = np.abs(np.einsum('ij,ij->i', np.cross(vec_A, vec_B, axis=-1), vec_C)/.6)"
   ]
  },
  {
   "cell_type": "code",
   "execution_count": 81,
   "id": "371d074f-9dfa-47fc-b0e8-53d28dd90ed2",
   "metadata": {},
   "outputs": [],
   "source": [
    "total_vol = np.sum(tet_vols)"
   ]
  },
  {
   "cell_type": "code",
   "execution_count": 83,
   "id": "48e330ec-f73e-4c51-9dad-7045f4078d0f",
   "metadata": {},
   "outputs": [],
   "source": [
    "scale = total_vol ** -1/3\n",
    "verts = verts * scale"
   ]
  },
  {
   "cell_type": "code",
   "execution_count": 86,
   "id": "344d3143-9859-4122-8345-d035762d57e1",
   "metadata": {},
   "outputs": [
    {
     "data": {
      "text/plain": [
       "1.1015571822210458e-07"
      ]
     },
     "execution_count": 86,
     "metadata": {},
     "output_type": "execute_result"
    }
   ],
   "source": [
    "scale"
   ]
  },
  {
   "cell_type": "code",
   "execution_count": 87,
   "id": "c871f33c-d462-4f57-8d16-ffefb3e7e546",
   "metadata": {},
   "outputs": [
    {
     "data": {
      "text/plain": [
       "<ufunc 'exp'>"
      ]
     },
     "execution_count": 87,
     "metadata": {},
     "output_type": "execute_result"
    }
   ],
   "source": [
    "np.exp"
   ]
  },
  {
   "cell_type": "code",
   "execution_count": null,
   "id": "71e2d3be-7f83-45cd-92a2-96c87efb6840",
   "metadata": {},
   "outputs": [],
   "source": []
  }
 ],
 "metadata": {
  "kernelspec": {
   "display_name": "Python [conda env:discoae]",
   "language": "python",
   "name": "conda-env-discoae-py"
  },
  "language_info": {
   "codemirror_mode": {
    "name": "ipython",
    "version": 3
   },
   "file_extension": ".py",
   "mimetype": "text/x-python",
   "name": "python",
   "nbconvert_exporter": "python",
   "pygments_lexer": "ipython3",
   "version": "3.11.10"
  }
 },
 "nbformat": 4,
 "nbformat_minor": 5
}
